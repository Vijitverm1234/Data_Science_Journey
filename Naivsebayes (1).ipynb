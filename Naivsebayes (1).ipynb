{
  "nbformat": 4,
  "nbformat_minor": 0,
  "metadata": {
    "colab": {
      "provenance": []
    },
    "kernelspec": {
      "name": "python3",
      "display_name": "Python 3"
    },
    "language_info": {
      "name": "python"
    }
  },
  "cells": [
    {
      "cell_type": "code",
      "execution_count": null,
      "metadata": {
        "colab": {
          "base_uri": "https://localhost:8080/"
        },
        "id": "RwocmR8bk5NU",
        "outputId": "250f3461-4b25-4abb-a98e-b10a14f8def3"
      },
      "outputs": [
        {
          "output_type": "stream",
          "name": "stdout",
          "text": [
            "    Outlook Temperature Humidity    Wind Play Tennis\n",
            "0     Sunny         Hot     High    Weak          No\n",
            "1     Sunny         Hot     High  Strong          No\n",
            "2  Overcast         Hot     High    Weak         Yes\n",
            "3      Rain        Mild     High    Weak         Yes\n",
            "4      Rain        Cool   Normal    Weak         Yes\n",
            "Index(['Outlook', 'Temperature', 'Humidity', 'Wind', 'Play Tennis'], dtype='object')\n"
          ]
        }
      ],
      "source": [
        "import pandas as pd\n",
        "df=pd.read_csv('/content/PlayTennis.csv')\n",
        "print(df.head())\n",
        "print(df.columns)"
      ]
    },
    {
      "cell_type": "code",
      "source": [
        "from sklearn.preprocessing import LabelEncoder\n",
        "df.columns=df.columns.str.strip()\n",
        "label_encoders={}\n",
        "for col in df.columns:\n",
        "  label_encoders[col]=LabelEncoder()\n",
        "  df[col]=label_encoders[col].fit_transform(df[col])\n",
        "print(df.head())"
      ],
      "metadata": {
        "colab": {
          "base_uri": "https://localhost:8080/"
        },
        "id": "TTgE1d3JmLwO",
        "outputId": "c3aafa02-a65f-448d-b874-7d9525533238"
      },
      "execution_count": null,
      "outputs": [
        {
          "output_type": "stream",
          "name": "stdout",
          "text": [
            "   Outlook  Temperature  Humidity  Wind  Play Tennis\n",
            "0        2            1         0     1            0\n",
            "1        2            1         0     0            0\n",
            "2        0            1         0     1            1\n",
            "3        1            2         0     1            1\n",
            "4        1            0         1     1            1\n"
          ]
        }
      ]
    },
    {
      "cell_type": "code",
      "source": [
        "from sklearn.model_selection import train_test_split\n",
        "X=df.drop('Play Tennis',axis=1)\n",
        "y=df['Play Tennis']\n",
        "\n",
        "x_train,x_test,y_train,y_test=train_test_split(X,y,test_size=0.5,random_state=42)\n",
        "print(x_train.shape)\n",
        "print(x_test.shape)\n",
        "print(y_train.shape)\n",
        "print(y_test.shape)"
      ],
      "metadata": {
        "colab": {
          "base_uri": "https://localhost:8080/"
        },
        "id": "6L-BJwqImLg_",
        "outputId": "a83209b8-bdaf-42b6-a91a-a5afa83dec40"
      },
      "execution_count": null,
      "outputs": [
        {
          "output_type": "stream",
          "name": "stdout",
          "text": [
            "(7, 4)\n",
            "(7, 4)\n",
            "(7,)\n",
            "(7,)\n"
          ]
        }
      ]
    },
    {
      "cell_type": "code",
      "source": [
        "from sklearn.naive_bayes import MultinomialNB\n",
        "from sklearn.metrics import accuracy_score, classification_report, precision_score, recall_score, f1_score\n",
        "\n",
        "model = MultinomialNB()\n",
        "model.fit(x_train, y_train)\n",
        "y_pred = model.predict(x_test)\n",
        "print(\"\\n Multinomail Naive Bayes Result\")\n",
        "conf_matrix = pd.crosstab(y_test, y_pred,rownames=['Actual'],colnames=['Predicted'])\n",
        "print(conf_matrix)\n",
        "print(\"\\n\")\n",
        "print(\"precision\",precision_score(y_test, y_pred))\n",
        "print(\"recall score\",recall_score(y_test, y_pred))\n",
        "print(\"f1_score\",f1_score(y_test, y_pred))\n",
        "print(classification_report(y_test, y_pred))\n",
        "accuracy=accuracy_score(y_test,y_pred)\n",
        "print(\"Accuracy:\",accuracy)"
      ],
      "metadata": {
        "colab": {
          "base_uri": "https://localhost:8080/"
        },
        "id": "FrHtgFvCpw0V",
        "outputId": "3fe16f0c-574c-4cba-f589-9ba73ae67d80"
      },
      "execution_count": null,
      "outputs": [
        {
          "output_type": "stream",
          "name": "stdout",
          "text": [
            "\n",
            " Multinomail Naive Bayes Result\n",
            "Predicted  0  1\n",
            "Actual         \n",
            "0          1  1\n",
            "1          1  4\n",
            "\n",
            "\n",
            "precision 0.8\n",
            "recall score 0.8\n",
            "f1_score 0.8\n",
            "              precision    recall  f1-score   support\n",
            "\n",
            "           0       0.50      0.50      0.50         2\n",
            "           1       0.80      0.80      0.80         5\n",
            "\n",
            "    accuracy                           0.71         7\n",
            "   macro avg       0.65      0.65      0.65         7\n",
            "weighted avg       0.71      0.71      0.71         7\n",
            "\n",
            "Accuracy: 0.7142857142857143\n"
          ]
        }
      ]
    }
  ]
}