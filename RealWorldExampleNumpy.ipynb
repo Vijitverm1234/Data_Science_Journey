{
  "nbformat": 4,
  "nbformat_minor": 0,
  "metadata": {
    "colab": {
      "provenance": []
    },
    "kernelspec": {
      "name": "python3",
      "display_name": "Python 3"
    },
    "language_info": {
      "name": "python"
    }
  },
  "cells": [
    {
      "cell_type": "code",
      "source": [
        "import numpy as np\n",
        "import matplotlib.pyplot as plt\n",
        "import pandas as pd"
      ],
      "metadata": {
        "id": "ER9foKv0uAKo"
      },
      "execution_count": 9,
      "outputs": []
    },
    {
      "cell_type": "code",
      "execution_count": 8,
      "metadata": {
        "colab": {
          "base_uri": "https://localhost:8080/"
        },
        "id": "OjCnV50otqDl",
        "outputId": "d8fd32c0-2a41-49bc-edfd-64a6e4e05b34"
      },
      "outputs": [
        {
          "output_type": "stream",
          "name": "stdout",
          "text": [
            "[[    1 45000 72000 19000 83000 56000]\n",
            " [    2 28000 91000 64000 12000 77000]\n",
            " [    3 33000 15000 88000 41000 29000]\n",
            " [    4 67000 53000 36000 94000 18000]\n",
            " [    5 81000 24000 47000 65000 92000]]\n"
          ]
        }
      ],
      "source": [
        "ds = [\n",
        "    [1, 45, 72, 19, 83, 56],\n",
        "    [2, 28, 91, 64, 12, 77],\n",
        "    [3, 33, 15, 88, 41, 29],\n",
        "    [4, 67, 53, 36, 94, 18],\n",
        "    [5, 81, 24, 47, 65, 92]\n",
        "]\n",
        "sales_data=np.array(ds)\n",
        "\n",
        "sales_data[:, 1:] = sales_data[:, 1:] * 1000\n",
        "print(sales_data)"
      ]
    },
    {
      "cell_type": "markdown",
      "source": [
        "## Data Analysis"
      ],
      "metadata": {
        "id": "j1WvttNayIOF"
      }
    },
    {
      "cell_type": "code",
      "source": [
        "print(\"========Zomato Sales Analysis\")\n",
        "\n",
        "print(\"shape\",sales_data.shape)\n",
        "print(\"\\nSample Data for 1st year \\n\",sales_data[:3,:])"
      ],
      "metadata": {
        "colab": {
          "base_uri": "https://localhost:8080/"
        },
        "id": "-I4lV4fgxOXq",
        "outputId": "5a74031d-10a1-4ad7-91f0-cfc87d66b4b0"
      },
      "execution_count": 18,
      "outputs": [
        {
          "output_type": "stream",
          "name": "stdout",
          "text": [
            "========Zomato Sales Analysis\n",
            "shape (5, 6)\n",
            "\n",
            "Sample Data for 1st year \n",
            " [[    1 45000 72000 19000 83000 56000]\n",
            " [    2 28000 91000 64000 12000 77000]\n",
            " [    3 33000 15000 88000 41000 29000]]\n"
          ]
        }
      ]
    },
    {
      "cell_type": "markdown",
      "source": [
        "## Sales Per year and Per company"
      ],
      "metadata": {
        "id": "ebIHDqCuyMEa"
      }
    },
    {
      "cell_type": "code",
      "source": [
        "print(np.sum(sales_data,axis=0)) # top to bottom\n",
        "print(np.sum(sales_data,axis=1)) # left to right\n",
        "\n",
        "\n",
        "print(\"\\n Yearly Sales\")\n",
        "year_tot=np.sum(sales_data[:,1:],axis=0)\n",
        "print(year_tot)\n",
        "\n",
        "print(\"\\n Sales per company through out year\")\n",
        "company_tot=np.sum(sales_data[:,1:],axis=1)\n",
        "print(company_tot)"
      ],
      "metadata": {
        "colab": {
          "base_uri": "https://localhost:8080/"
        },
        "id": "sO7koIrCyG4v",
        "outputId": "13df0391-9dbb-44ac-f07c-046b194e96a0"
      },
      "execution_count": 26,
      "outputs": [
        {
          "output_type": "stream",
          "name": "stdout",
          "text": [
            "[    15 254000 255000 254000 295000 272000]\n",
            "[275001 272002 206003 268004 309005]\n",
            "\n",
            " Yearly Sales\n",
            "[254000 255000 254000 295000 272000]\n",
            "\n",
            " Sales per company through out year\n",
            "[275000 272000 206000 268000 309000]\n"
          ]
        }
      ]
    },
    {
      "cell_type": "markdown",
      "source": [
        "## Minimum Sales per restuarant"
      ],
      "metadata": {
        "id": "1HuVhti_z4mc"
      }
    },
    {
      "cell_type": "code",
      "source": [
        "min_sales=np.min(sales_data[:,1:],axis=1) # per res\n",
        "print(min_sales)\n",
        "max_sales=np.max(sales_data[:,1:],axis=0)  # per year\n",
        "print(max_sales)\n",
        "avg_sales=np.average(sales_data[:,1:],axis=1)\n",
        "print(avg_sales)"
      ],
      "metadata": {
        "colab": {
          "base_uri": "https://localhost:8080/"
        },
        "id": "EFqF6mro0mel",
        "outputId": "f1b9c53d-d36d-4cd3-9bff-98b678a27d61"
      },
      "execution_count": 31,
      "outputs": [
        {
          "output_type": "stream",
          "name": "stdout",
          "text": [
            "[19000 12000 15000 18000 24000]\n",
            "[81000 91000 88000 94000 92000]\n",
            "[55000. 54400. 41200. 53600. 61800.]\n"
          ]
        }
      ]
    },
    {
      "cell_type": "markdown",
      "source": [
        "## Cumulative Sales"
      ],
      "metadata": {
        "id": "18losx6L1i5c"
      }
    },
    {
      "cell_type": "code",
      "source": [
        "cumsum=np.cumsum(sales_data[:,1:],axis=1)\n",
        "print(cumsum)\n",
        "\n"
      ],
      "metadata": {
        "colab": {
          "base_uri": "https://localhost:8080/"
        },
        "id": "ywfdMEet1iid",
        "outputId": "ce268d1b-e160-47aa-b51e-1739a0e4d1e3"
      },
      "execution_count": 32,
      "outputs": [
        {
          "output_type": "stream",
          "name": "stdout",
          "text": [
            "[[ 45000 117000 136000 219000 275000]\n",
            " [ 28000 119000 183000 195000 272000]\n",
            " [ 33000  48000 136000 177000 206000]\n",
            " [ 67000 120000 156000 250000 268000]\n",
            " [ 81000 105000 152000 217000 309000]]\n"
          ]
        }
      ]
    },
    {
      "cell_type": "markdown",
      "source": [
        "## Insights using MatPlotLib"
      ],
      "metadata": {
        "id": "OXeTKbzo3cxn"
      }
    },
    {
      "cell_type": "code",
      "source": [
        "plt.figure(figsize=(10,5)) # 10pixel by 6 pixel\n",
        "plt.plot(np.mean(cumsum,axis=0))\n",
        "plt.title(\"Avg Cumulative Sales per year\")\n",
        "plt.xlabel(\"Year\")\n",
        "plt.ylabel(\"Sales\")\n",
        "plt.show()\n"
      ],
      "metadata": {
        "colab": {
          "base_uri": "https://localhost:8080/",
          "height": 487
        },
        "id": "weDaNYzz3gtu",
        "outputId": "e28cd6c4-394c-4568-84bf-368d0e425226"
      },
      "execution_count": 34,
      "outputs": [
        {
          "output_type": "display_data",
          "data": {
            "text/plain": [
              "<Figure size 1000x500 with 1 Axes>"
            ],
            "image/png": "[encoded data removed]"
          },
          "metadata": {}
        }
      ]
    }
  ]
}