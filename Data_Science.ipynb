{
  "nbformat": 4,
  "nbformat_minor": 0,
  "metadata": {
    "colab": {
      "provenance": []
    },
    "kernelspec": {
      "name": "python3",
      "display_name": "Python 3"
    },
    "language_info": {
      "name": "python"
    }
  },
  "cells": [
    {
      "cell_type": "code",
      "execution_count": null,
      "metadata": {
        "colab": {
          "base_uri": "https://localhost:8080/"
        },
        "id": "0znKKXfgMh2c",
        "outputId": "f5750d7c-b40e-48cd-b1d4-484bcd29c8bf"
      },
      "outputs": [
        {
          "output_type": "stream",
          "name": "stdout",
          "text": [
            "[1, 2, 3, 4]\n",
            "<class 'list'>\n"
          ]
        }
      ],
      "source": [
        "list=[1,2,3,4]\n",
        "print(list)\n",
        "print(type(list))"
      ]
    },
    {
      "cell_type": "code",
      "source": [
        "import numpy as np\n",
        "x=np.array(list)\n",
        "print(x)\n",
        "print(type(x))"
      ],
      "metadata": {
        "colab": {
          "base_uri": "https://localhost:8080/"
        },
        "id": "ViCbAwEDM0Jo",
        "outputId": "ca0926a7-a00e-4a18-d3ea-7b5688d5e4ab"
      },
      "execution_count": null,
      "outputs": [
        {
          "output_type": "stream",
          "name": "stdout",
          "text": [
            "[1 2 3 4]\n",
            "<class 'numpy.ndarray'>\n"
          ]
        }
      ]
    },
    {
      "cell_type": "code",
      "source": [
        "l=[]\n",
        "for i in range(1,5):\n",
        "    int_1=input(\"enter:\")\n",
        "    l.append(int_1)\n",
        "print(l)\n",
        "print(np.array(l))\n",
        "y=np.array(l,ndmin=10)\n",
        "print(y)\n"
      ],
      "metadata": {
        "colab": {
          "base_uri": "https://localhost:8080/"
        },
        "id": "jozDukw3NJUx",
        "outputId": "71f6e9d2-7dae-4d66-ab02-37633d0716f8"
      },
      "execution_count": null,
      "outputs": [
        {
          "output_type": "stream",
          "name": "stdout",
          "text": [
            "enter:23\n",
            "enter:12\n",
            "enter:45\n",
            "enter:23\n",
            "['23', '12', '45', '23']\n",
            "['23' '12' '45' '23']\n",
            "[[[[[[[[[['23' '12' '45' '23']]]]]]]]]]\n"
          ]
        }
      ]
    },
    {
      "cell_type": "code",
      "source": [
        "l1=np.zeros(4)\n",
        "l2=np.zeros((3,4))\n",
        "l3=np.ones((3,4))\n",
        "l4=np.eye(4,3)\n",
        "l5=np.linspace(0,10,5)\n",
        "print(l1)\n",
        "print(l2)\n",
        "print(l3)\n",
        "print(l4)\n",
        "print(l5)"
      ],
      "metadata": {
        "colab": {
          "base_uri": "https://localhost:8080/"
        },
        "id": "FY18Cro7N34O",
        "outputId": "233212cc-9b4c-4922-bc67-6503bbbb3f03"
      },
      "execution_count": null,
      "outputs": [
        {
          "output_type": "stream",
          "name": "stdout",
          "text": [
            "[0. 0. 0. 0.]\n",
            "[[0. 0. 0. 0.]\n",
            " [0. 0. 0. 0.]\n",
            " [0. 0. 0. 0.]]\n",
            "[[1. 1. 1. 1.]\n",
            " [1. 1. 1. 1.]\n",
            " [1. 1. 1. 1.]]\n",
            "[[1. 0. 0.]\n",
            " [0. 1. 0.]\n",
            " [0. 0. 1.]\n",
            " [0. 0. 0.]]\n",
            "[ 0.   2.5  5.   7.5 10. ]\n"
          ]
        }
      ]
    },
    {
      "cell_type": "markdown",
      "source": [
        "Random functions\n"
      ],
      "metadata": {
        "id": "iBbuBVZ6OutD"
      }
    },
    {
      "cell_type": "code",
      "source": [
        "l1=np.random.rand(3)\n",
        "l2=np.random.rand(3,3)\n",
        "l3=np.random.randn(3,3)\n",
        "l4=np.random.randint(10,40,7)\n",
        "print(l1)\n",
        "print(l2)\n",
        "print(l3)\n",
        "print(l4)"
      ],
      "metadata": {
        "colab": {
          "base_uri": "https://localhost:8080/"
        },
        "id": "4vrUScWaOxLn",
        "outputId": "5764f622-cc46-4c2b-fce4-6c8ed47fd8c1"
      },
      "execution_count": null,
      "outputs": [
        {
          "output_type": "stream",
          "name": "stdout",
          "text": [
            "[0.53462257 0.88856837 0.71702501]\n",
            "[[0.82605713 0.47947264 0.42278787]\n",
            " [0.03857339 0.43633801 0.97475119]\n",
            " [0.76314147 0.06666513 0.29156793]]\n",
            "[[ 1.52853408 -1.30064073  1.28651382]\n",
            " [-0.53028422  0.24724569 -0.65017135]\n",
            " [ 0.3070336   0.19369646  0.1796512 ]]\n",
            "[24 14 39 38 17 34 23]\n"
          ]
        }
      ]
    },
    {
      "cell_type": "markdown",
      "source": [
        "Data type as functions"
      ],
      "metadata": {
        "id": "o96bazyZPrti"
      }
    },
    {
      "cell_type": "code",
      "source": [
        "x=np.array([1,2,3,4])\n",
        "new=np.float32(x)\n",
        "\n",
        "print(x.dtype)\n",
        "print(new.dtype)"
      ],
      "metadata": {
        "colab": {
          "base_uri": "https://localhost:8080/"
        },
        "id": "947KKv1pPqm8",
        "outputId": "b6461538-63a6-4eea-f0a3-a2706eb7d136"
      },
      "execution_count": null,
      "outputs": [
        {
          "output_type": "stream",
          "name": "stdout",
          "text": [
            "int64\n",
            "float32\n"
          ]
        }
      ]
    },
    {
      "cell_type": "code",
      "source": [
        "var1=np.array([1,2,3,4])\n",
        "var2=np.array([1,2,3,4])\n",
        "var=var1+3\n",
        "var4=var1+var2\n",
        "np.add(var1,var2)\n",
        "print(var)\n",
        "print(var4)\n",
        "print(np.multiply(var1,var2))\n",
        "print(np.power(var1,var2))\n"
      ],
      "metadata": {
        "colab": {
          "base_uri": "https://localhost:8080/"
        },
        "id": "MG5YnhJSQMIP",
        "outputId": "6dd4536b-a708-4548-b3dd-c98db3a409e9"
      },
      "execution_count": null,
      "outputs": [
        {
          "output_type": "stream",
          "name": "stdout",
          "text": [
            "[4 5 6 7]\n",
            "[2 4 6 8]\n",
            "[ 1  4  9 16]\n",
            "[  1   4  27 256]\n"
          ]
        }
      ]
    },
    {
      "cell_type": "code",
      "source": [
        "var1=np.array([[1,2,3,4],[1,2,3,4]])\n",
        "var2=np.array([[1,2,3,4],[1,2,3,4]])\n",
        "print(np.add(var1,var2))\n",
        "print(var1.shape)"
      ],
      "metadata": {
        "colab": {
          "base_uri": "https://localhost:8080/"
        },
        "id": "nYhe0_7ORRFM",
        "outputId": "aa808050-29e0-4582-b213-4f8b6b5d9a4c"
      },
      "execution_count": null,
      "outputs": [
        {
          "output_type": "stream",
          "name": "stdout",
          "text": [
            "[[2 4 6 8]\n",
            " [2 4 6 8]]\n",
            "(2, 4)\n"
          ]
        }
      ]
    },
    {
      "cell_type": "markdown",
      "source": [
        "#  **Pandas **"
      ],
      "metadata": {
        "id": "aGqT2TP8QL38"
      }
    },
    {
      "cell_type": "code",
      "source": [
        "data={\n",
        "    \"name\":[\"sachin\",\"david\",\"yuvraj\",\"viru\"],\n",
        "    \"age\":[12,34,12,45],\n",
        "    \"avg\":[34,56,23,56],\n",
        "    \"city\":[\"harayan\",\"delhi\",\"mombai\",\"pune\"]\n",
        "}\n",
        "print(data)"
      ],
      "metadata": {
        "colab": {
          "base_uri": "https://localhost:8080/"
        },
        "id": "pi0pbY7USRBr",
        "outputId": "8f0e8497-9679-4405-d989-d192ebc3e21c"
      },
      "execution_count": null,
      "outputs": [
        {
          "output_type": "stream",
          "name": "stdout",
          "text": [
            "{'name': ['sachin', 'david', 'yuvraj', 'viru'], 'age': [12, 34, 12, 45], 'avg': [34, 56, 23, 56], 'city': ['harayan', 'delhi', 'mombai', 'pune']}\n"
          ]
        }
      ]
    },
    {
      "cell_type": "code",
      "source": [
        "import pandas as pd\n",
        "df=pd.DataFrame(data)\n",
        "print(df)"
      ],
      "metadata": {
        "colab": {
          "base_uri": "https://localhost:8080/"
        },
        "id": "XGNpdWxuThxX",
        "outputId": "d4decedd-d29e-4d71-ad70-1d00e96bd9a9"
      },
      "execution_count": null,
      "outputs": [
        {
          "output_type": "stream",
          "name": "stdout",
          "text": [
            "     name  age  avg     city\n",
            "0  sachin   12   34  harayan\n",
            "1   david   34   56    delhi\n",
            "2  yuvraj   12   23   mombai\n",
            "3    viru   45   56     pune\n"
          ]
        }
      ]
    },
    {
      "cell_type": "code",
      "source": [
        "print(type(df))"
      ],
      "metadata": {
        "colab": {
          "base_uri": "https://localhost:8080/"
        },
        "id": "JMs30E6HU5FX",
        "outputId": "86da03ec-f735-4c2d-de7d-01f359cc5bec"
      },
      "execution_count": null,
      "outputs": [
        {
          "output_type": "stream",
          "name": "stdout",
          "text": [
            "<class 'pandas.core.frame.DataFrame'>\n"
          ]
        }
      ]
    },
    {
      "cell_type": "code",
      "source": [
        "#first five rows\n",
        "print(df.head())"
      ],
      "metadata": {
        "colab": {
          "base_uri": "https://localhost:8080/"
        },
        "id": "2ihRmXY0VGNt",
        "outputId": "f7ad1624-fbf8-4e32-c3c3-abf61d65a420"
      },
      "execution_count": null,
      "outputs": [
        {
          "output_type": "stream",
          "name": "stdout",
          "text": [
            "     name  age  avg     city\n",
            "0  sachin   12   34  harayan\n",
            "1   david   34   56    delhi\n",
            "2  yuvraj   12   23   mombai\n",
            "3    viru   45   56     pune\n"
          ]
        }
      ]
    },
    {
      "cell_type": "code",
      "source": [
        "#last five row\n",
        "print(df.tail())"
      ],
      "metadata": {
        "colab": {
          "base_uri": "https://localhost:8080/"
        },
        "id": "UlW4MxwdVUvJ",
        "outputId": "08251c7d-565a-4c4d-dbde-05a3f306e03c"
      },
      "execution_count": null,
      "outputs": [
        {
          "output_type": "stream",
          "name": "stdout",
          "text": [
            "     name  age  avg     city\n",
            "0  sachin   12   34  harayan\n",
            "1   david   34   56    delhi\n",
            "2  yuvraj   12   23   mombai\n",
            "3    viru   45   56     pune\n"
          ]
        }
      ]
    },
    {
      "cell_type": "code",
      "source": [
        "#infomation of frame\n",
        "print(df.info())"
      ],
      "metadata": {
        "colab": {
          "base_uri": "https://localhost:8080/"
        },
        "id": "0P_pXKv-VfTP",
        "outputId": "27725433-85f5-4a11-bc3e-2956d8131003"
      },
      "execution_count": null,
      "outputs": [
        {
          "output_type": "stream",
          "name": "stdout",
          "text": [
            "<class 'pandas.core.frame.DataFrame'>\n",
            "RangeIndex: 4 entries, 0 to 3\n",
            "Data columns (total 4 columns):\n",
            " #   Column  Non-Null Count  Dtype \n",
            "---  ------  --------------  ----- \n",
            " 0   name    4 non-null      object\n",
            " 1   age     4 non-null      int64 \n",
            " 2   avg     4 non-null      int64 \n",
            " 3   city    4 non-null      object\n",
            "dtypes: int64(2), object(2)\n",
            "memory usage: 256.0+ bytes\n",
            "None\n"
          ]
        }
      ]
    },
    {
      "cell_type": "code",
      "source": [
        "#describe the frame\n",
        "print(df.describe())"
      ],
      "metadata": {
        "colab": {
          "base_uri": "https://localhost:8080/"
        },
        "id": "JoZXzGhNVuhN",
        "outputId": "d6396dc3-2656-4ee0-fa31-8869af324572"
      },
      "execution_count": null,
      "outputs": [
        {
          "output_type": "stream",
          "name": "stdout",
          "text": [
            "         age    avg\n",
            "count   4.00   4.00\n",
            "mean   25.75  42.25\n",
            "std    16.50  16.50\n",
            "min    12.00  23.00\n",
            "25%    12.00  31.25\n",
            "50%    23.00  45.00\n",
            "75%    36.75  56.00\n",
            "max    45.00  56.00\n"
          ]
        }
      ]
    },
    {
      "cell_type": "markdown",
      "source": [
        "direct access , using loc and using iloc"
      ],
      "metadata": {
        "id": "OByOBixVV_is"
      }
    },
    {
      "cell_type": "code",
      "source": [
        "from os import name\n",
        "print(df['name'])"
      ],
      "metadata": {
        "colab": {
          "base_uri": "https://localhost:8080/"
        },
        "id": "iGPhpBysWERf",
        "outputId": "7692537c-39aa-4a54-ad5f-804541717fcd"
      },
      "execution_count": null,
      "outputs": [
        {
          "output_type": "stream",
          "name": "stdout",
          "text": [
            "0    sachin\n",
            "1     david\n",
            "2    yuvraj\n",
            "3      viru\n",
            "Name: name, dtype: object\n"
          ]
        }
      ]
    },
    {
      "cell_type": "code",
      "source": [
        "print(df['name'][2])"
      ],
      "metadata": {
        "colab": {
          "base_uri": "https://localhost:8080/"
        },
        "id": "GOt4W9vvWPFK",
        "outputId": "1ad3e3da-ad1f-451e-c8c2-34d5f020dbb0"
      },
      "execution_count": null,
      "outputs": [
        {
          "output_type": "stream",
          "name": "stdout",
          "text": [
            "yuvraj\n"
          ]
        }
      ]
    },
    {
      "cell_type": "code",
      "source": [
        "print(df['name'][0:2])"
      ],
      "metadata": {
        "colab": {
          "base_uri": "https://localhost:8080/"
        },
        "id": "lItuRpAzWekv",
        "outputId": "5803b4e5-021d-4542-d097-8546fc70f3cd"
      },
      "execution_count": null,
      "outputs": [
        {
          "output_type": "stream",
          "name": "stdout",
          "text": [
            "0    sachin\n",
            "1     david\n",
            "Name: name, dtype: object\n"
          ]
        }
      ]
    },
    {
      "cell_type": "code",
      "source": [
        "print(df.loc[0])"
      ],
      "metadata": {
        "colab": {
          "base_uri": "https://localhost:8080/"
        },
        "id": "OrfR41ySWrNn",
        "outputId": "c057b095-f43a-4fde-8c3a-3b2b1c725c36"
      },
      "execution_count": null,
      "outputs": [
        {
          "output_type": "stream",
          "name": "stdout",
          "text": [
            "name     sachin\n",
            "age          12\n",
            "avg          34\n",
            "city    harayan\n",
            "Name: 0, dtype: object\n"
          ]
        }
      ]
    },
    {
      "cell_type": "code",
      "source": [
        "print(df.loc[2,['name']])"
      ],
      "metadata": {
        "colab": {
          "base_uri": "https://localhost:8080/"
        },
        "id": "xY1koj-2XAUy",
        "outputId": "897b73be-706a-4ece-a846-3dd6097a4514"
      },
      "execution_count": null,
      "outputs": [
        {
          "output_type": "stream",
          "name": "stdout",
          "text": [
            "name    yuvraj\n",
            "Name: 2, dtype: object\n"
          ]
        }
      ]
    },
    {
      "cell_type": "code",
      "source": [
        "#using iloc\n",
        "print(df.iloc[2])"
      ],
      "metadata": {
        "colab": {
          "base_uri": "https://localhost:8080/"
        },
        "id": "5zDuZ_U-XIMV",
        "outputId": "013893f2-569b-44da-89e4-99fbc3f0c3af"
      },
      "execution_count": null,
      "outputs": [
        {
          "output_type": "stream",
          "name": "stdout",
          "text": [
            "name    yuvraj\n",
            "age         12\n",
            "avg         23\n",
            "city    mombai\n",
            "Name: 2, dtype: object\n"
          ]
        }
      ]
    },
    {
      "cell_type": "markdown",
      "source": [
        "Series : One dimensional"
      ],
      "metadata": {
        "id": "YRG9IC75XZvQ"
      }
    },
    {
      "cell_type": "code",
      "source": [
        "print(type(df['name']))"
      ],
      "metadata": {
        "colab": {
          "base_uri": "https://localhost:8080/"
        },
        "id": "NrebZ58WXZWi",
        "outputId": "0cc5c798-69ec-4f0c-8475-5e984f4a17a5"
      },
      "execution_count": null,
      "outputs": [
        {
          "output_type": "stream",
          "name": "stdout",
          "text": [
            "<class 'pandas.core.series.Series'>\n"
          ]
        }
      ]
    },
    {
      "cell_type": "code",
      "source": [
        "#adding column\n",
        "df[\"matches\"]=[12,34,55,21]\n",
        "print(df)"
      ],
      "metadata": {
        "colab": {
          "base_uri": "https://localhost:8080/"
        },
        "id": "JKdhSCtHXs0W",
        "outputId": "f866d498-a000-4342-8370-90679ab1d79c"
      },
      "execution_count": null,
      "outputs": [
        {
          "output_type": "stream",
          "name": "stdout",
          "text": [
            "     name  age  avg     city  No_Of_matches  matches\n",
            "0  sachin   12   34  harayan             12       12\n",
            "1   david   34   56    delhi             34       34\n",
            "2  yuvraj   12   23   mombai             55       55\n",
            "3    viru   45   56     pune             21       21\n"
          ]
        }
      ]
    },
    {
      "cell_type": "code",
      "source": [
        "#dropping a column\n",
        "df=df.drop('avg',axis=1)\n",
        "print(df)"
      ],
      "metadata": {
        "colab": {
          "base_uri": "https://localhost:8080/"
        },
        "id": "f5Nc0yN4YBtw",
        "outputId": "79d1e870-ec97-4054-a98b-7d544d1abcdf"
      },
      "execution_count": null,
      "outputs": [
        {
          "output_type": "stream",
          "name": "stdout",
          "text": [
            "     name  age     city  No_Of_matches  matches\n",
            "0  sachin   12  harayan             12       12\n",
            "1   david   34    delhi             34       34\n",
            "2  yuvraj   12   mombai             55       55\n",
            "3    viru   45     pune             21       21\n"
          ]
        }
      ]
    },
    {
      "cell_type": "code",
      "source": [
        "print(df)"
      ],
      "metadata": {
        "colab": {
          "base_uri": "https://localhost:8080/"
        },
        "id": "VZT06SNRYdn4",
        "outputId": "384b9e91-3fa0-4ac9-8256-9807dd959d05"
      },
      "execution_count": null,
      "outputs": [
        {
          "output_type": "stream",
          "name": "stdout",
          "text": [
            "     name  age     city  No_Of_matches  matches\n",
            "0  sachin   12  harayan             12       12\n",
            "1   david   34    delhi             34       34\n",
            "2  yuvraj   12   mombai             55       55\n",
            "3    viru   45     pune             21       21\n"
          ]
        }
      ]
    },
    {
      "cell_type": "code",
      "source": [
        "#adding a new row\n",
        "df.loc[0]=[\"akshay\",12,\"mumbai\",12,89]\n",
        "print(df)"
      ],
      "metadata": {
        "colab": {
          "base_uri": "https://localhost:8080/"
        },
        "id": "_estBHB7Y9zG",
        "outputId": "09a25cdb-3c83-4c37-cc3a-77cd73dc6a77"
      },
      "execution_count": null,
      "outputs": [
        {
          "output_type": "stream",
          "name": "stdout",
          "text": [
            "     name  age    city  No_Of_matches  matches\n",
            "0  akshay   12  mumbai             12       89\n",
            "1   david   34   delhi             34       34\n",
            "2  yuvraj   12  mombai             55       55\n",
            "3    viru   45    pune             21       21\n"
          ]
        }
      ]
    },
    {
      "cell_type": "code",
      "source": [
        "df.loc[4]=[\"akshit\",12,\"dharavi\",12,34]\n",
        "print(df)"
      ],
      "metadata": {
        "colab": {
          "base_uri": "https://localhost:8080/"
        },
        "id": "Rewu1JOmZ8oJ",
        "outputId": "8d17dce5-e895-461b-e7e7-d0c0430289f6"
      },
      "execution_count": null,
      "outputs": [
        {
          "output_type": "stream",
          "name": "stdout",
          "text": [
            "     name  age     city  No_Of_matches  matches\n",
            "0  akshay   12   mumbai             12       89\n",
            "1   david   34    delhi             34       34\n",
            "2  yuvraj   12   mombai             55       55\n",
            "3    viru   45     pune             21       21\n",
            "4  akshit   12  dharavi             12       34\n"
          ]
        }
      ]
    },
    {
      "cell_type": "code",
      "source": [
        "#checking whether cloumn has null value\n",
        "print(df.isnull())"
      ],
      "metadata": {
        "colab": {
          "base_uri": "https://localhost:8080/"
        },
        "id": "55uRuCjbaNfp",
        "outputId": "433b2156-b02d-4192-c97e-8b1689383b15"
      },
      "execution_count": null,
      "outputs": [
        {
          "output_type": "stream",
          "name": "stdout",
          "text": [
            "    name    age   city  No_Of_matches  matches\n",
            "0  False  False  False          False    False\n",
            "1  False  False  False          False    False\n",
            "2  False  False  False          False    False\n",
            "3  False  False  False          False    False\n",
            "4  False  False  False          False    False\n"
          ]
        }
      ]
    },
    {
      "cell_type": "code",
      "source": [
        "print(df.isnull().sum())"
      ],
      "metadata": {
        "colab": {
          "base_uri": "https://localhost:8080/"
        },
        "id": "KsYmhoEYafOS",
        "outputId": "14ab4571-4c34-420f-88d3-f8fc50b56d82"
      },
      "execution_count": null,
      "outputs": [
        {
          "output_type": "stream",
          "name": "stdout",
          "text": [
            "name             0\n",
            "age              0\n",
            "city             0\n",
            "No_Of_matches    0\n",
            "matches          0\n",
            "dtype: int64\n"
          ]
        }
      ]
    },
    {
      "cell_type": "code",
      "source": [
        "#for dropping null values\n",
        "df=df.dropna()\n",
        "print(df)"
      ],
      "metadata": {
        "colab": {
          "base_uri": "https://localhost:8080/"
        },
        "id": "iGrbtHqMaj-C",
        "outputId": "050079b5-eaf7-4f77-e260-b75a3b256e42"
      },
      "execution_count": null,
      "outputs": [
        {
          "output_type": "stream",
          "name": "stdout",
          "text": [
            "   age     city  No_Of_matches  matches\n",
            "a   12   mumbai             12       89\n",
            "b   34    delhi             34       34\n",
            "c   12   mombai             55       55\n",
            "d   45     pune             21       21\n",
            "e   12  dharavi             12       34\n"
          ]
        }
      ]
    },
    {
      "cell_type": "code",
      "source": [
        "#changing the index\n",
        "df.index = list(\"abcde\")\n",
        "print(df)\n"
      ],
      "metadata": {
        "colab": {
          "base_uri": "https://localhost:8080/"
        },
        "id": "NNOFo0uobbTD",
        "outputId": "51760fa3-c14c-4727-b6b1-9e07b7f3ac1b"
      },
      "execution_count": null,
      "outputs": [
        {
          "output_type": "stream",
          "name": "stdout",
          "text": [
            "   age     city  No_Of_matches  matches\n",
            "a   12   mumbai             12       89\n",
            "b   34    delhi             34       34\n",
            "c   12   mombai             55       55\n",
            "d   45     pune             21       21\n",
            "e   12  dharavi             12       34\n"
          ]
        }
      ]
    },
    {
      "cell_type": "code",
      "source": [
        "#setting index as name\n",
        "df[\"name\"]=[\"Vijit\",\"Yuvaraj\",\"Akshit\",\"Akshay\",\"Vatsal\"]\n",
        "print(df)\n",
        "df=df.set_index(\"name\")\n",
        "print(df)"
      ],
      "metadata": {
        "colab": {
          "base_uri": "https://localhost:8080/"
        },
        "id": "HLtgbhBJdSni",
        "outputId": "87465a15-9cc3-4f0f-9550-85d51cff7042"
      },
      "execution_count": null,
      "outputs": [
        {
          "output_type": "stream",
          "name": "stdout",
          "text": [
            "         age     city  No_Of_matches  matches     name\n",
            "name                                                  \n",
            "Vijit     12   mumbai             12       89    Vijit\n",
            "Yuvaraj   34    delhi             34       34  Yuvaraj\n",
            "Akshit    12   mombai             55       55   Akshit\n",
            "Akshay    45     pune             21       21   Akshay\n",
            "Vatsal    12  dharavi             12       34   Vatsal\n",
            "         age     city  No_Of_matches  matches\n",
            "name                                         \n",
            "Vijit     12   mumbai             12       89\n",
            "Yuvaraj   34    delhi             34       34\n",
            "Akshit    12   mombai             55       55\n",
            "Akshay    45     pune             21       21\n",
            "Vatsal    12  dharavi             12       34\n"
          ]
        }
      ]
    },
    {
      "cell_type": "code",
      "source": [
        "#coverting to csv\n",
        "df.to_csv(\"test.csv\")"
      ],
      "metadata": {
        "id": "jVVdTVmcgJUv"
      },
      "execution_count": null,
      "outputs": []
    },
    {
      "cell_type": "code",
      "source": [
        "#reading the csv file\n",
        "df1=pd.read_csv(\"test.csv\")\n",
        "print(df1)"
      ],
      "metadata": {
        "colab": {
          "base_uri": "https://localhost:8080/"
        },
        "id": "zvGgDVmGgxJO",
        "outputId": "32efe189-2d42-46f4-ce18-8d74b51da89b"
      },
      "execution_count": null,
      "outputs": [
        {
          "output_type": "stream",
          "name": "stdout",
          "text": [
            "      name  age     city  No_Of_matches  matches\n",
            "0    Vijit   12   mumbai             12       89\n",
            "1  Yuvaraj   34    delhi             34       34\n",
            "2   Akshit   12   mombai             55       55\n",
            "3   Akshay   45     pune             21       21\n",
            "4   Vatsal   12  dharavi             12       34\n"
          ]
        }
      ]
    },
    {
      "cell_type": "code",
      "source": [
        "#using Numpy\n",
        "import numpy as np\n",
        "df2=pd.DataFrame(np.random.rand(300,5),columns=list(\"abcde\"))\n",
        "print(df2)"
      ],
      "metadata": {
        "colab": {
          "base_uri": "https://localhost:8080/"
        },
        "id": "X44glFfOhd6E",
        "outputId": "f34038f9-9074-41e9-8a99-3b771ed6e5e3"
      },
      "execution_count": null,
      "outputs": [
        {
          "output_type": "stream",
          "name": "stdout",
          "text": [
            "            a         b         c         d         e\n",
            "0    0.958904  0.183272  0.664788  0.739625  0.755194\n",
            "1    0.535204  0.802095  0.553758  0.876144  0.132901\n",
            "2    0.194906  0.734357  0.409605  0.878203  0.134531\n",
            "3    0.201414  0.879388  0.275590  0.242498  0.116453\n",
            "4    0.809280  0.661066  0.889048  0.298212  0.553367\n",
            "..        ...       ...       ...       ...       ...\n",
            "295  0.678536  0.104154  0.436757  0.396632  0.338546\n",
            "296  0.069362  0.667531  0.259903  0.415993  0.859567\n",
            "297  0.784392  0.291489  0.902015  0.435381  0.038273\n",
            "298  0.354254  0.167469  0.618837  0.549057  0.977632\n",
            "299  0.421881  0.543138  0.802060  0.186077  0.683533\n",
            "\n",
            "[300 rows x 5 columns]\n"
          ]
        }
      ]
    },
    {
      "cell_type": "code",
      "source": [
        "print(df2.describe())"
      ],
      "metadata": {
        "id": "RBVYuwNkiGB0",
        "outputId": "483292bc-e0f9-444b-e432-d7d6bf0119f2",
        "colab": {
          "base_uri": "https://localhost:8080/"
        }
      },
      "execution_count": null,
      "outputs": [
        {
          "output_type": "stream",
          "name": "stdout",
          "text": [
            "                a           b           c           d           e\n",
            "count  300.000000  300.000000  300.000000  300.000000  300.000000\n",
            "mean     0.487734    0.477258    0.506072    0.510053    0.496142\n",
            "std      0.287050    0.293579    0.281420    0.286637    0.274496\n",
            "min      0.000212    0.000369    0.001788    0.003414    0.009308\n",
            "25%      0.248655    0.209596    0.286774    0.273897    0.263001\n",
            "50%      0.466306    0.462064    0.521653    0.504168    0.506254\n",
            "75%      0.731248    0.736712    0.746183    0.768234    0.718987\n",
            "max      0.994169    0.993525    0.999656    0.993787    0.991043\n"
          ]
        }
      ]
    }
  ]
}