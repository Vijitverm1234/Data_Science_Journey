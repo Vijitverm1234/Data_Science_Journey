{
  "nbformat": 4,
  "nbformat_minor": 0,
  "metadata": {
    "colab": {
      "provenance": []
    },
    "kernelspec": {
      "name": "python3",
      "display_name": "Python 3"
    },
    "language_info": {
      "name": "python"
    }
  },
  "cells": [
    {
      "cell_type": "code",
      "execution_count": 11,
      "metadata": {
        "colab": {
          "base_uri": "https://localhost:8080/"
        },
        "id": "gczOQdhw-zX6",
        "outputId": "e692d001-2ef8-4bb3-cb0b-d7ff604221c3"
      },
      "outputs": [
        {
          "output_type": "stream",
          "name": "stderr",
          "text": [
            "[nltk_data] Downloading package punkt to /root/nltk_data...\n",
            "[nltk_data]   Package punkt is already up-to-date!\n",
            "[nltk_data] Downloading package stopwords to /root/nltk_data...\n",
            "[nltk_data]   Package stopwords is already up-to-date!\n"
          ]
        }
      ],
      "source": [
        "import nltk\n",
        "nltk.download('punkt')\n",
        "nltk.download('stopwords')\n",
        "from nltk.corpus import stopwords\n",
        "from nltk.tokenize import word_tokenize\n",
        "import re\n",
        "import pandas as pd\n",
        "import numpy as np\n",
        "from sklearn.naive_bayes import MultinomialNB\n",
        "from sklearn.model_selection import train_test_split\n",
        "from sklearn.metrics import accuracy_score"
      ]
    },
    {
      "cell_type": "markdown",
      "source": [],
      "metadata": {
        "id": "4-Yd0NsJ-0nH"
      }
    },
    {
      "cell_type": "code",
      "source": [
        "def preprocess_text(text):\n",
        "  text=text.lower()\n",
        "  test=re.sub(r'[^a-zA-Z]','',text)\n",
        "  tokens=word_tokenize(text)\n",
        "  tokens=[word for word in tokens if word not in stopwords.words('english')]\n",
        "  return ' '.join(tokens)"
      ],
      "metadata": {
        "id": "ep9nQkMrA6hn"
      },
      "execution_count": 5,
      "outputs": []
    },
    {
      "cell_type": "code",
      "source": [
        "data=pd.read_csv('spam.csv',encoding='latin-1')[['v1','v2']]\n",
        "data.columns=['label','message']\n",
        "data['label']=data['label'].map({'ham':0,'spam':1})"
      ],
      "metadata": {
        "collapsed": true,
        "id": "NiRojp1TE3zM"
      },
      "execution_count": 9,
      "outputs": []
    },
    {
      "cell_type": "code",
      "source": [
        "x_train,x_test,y_train,y_test=train_test_split(data['message'],data['label'],test_size=0.2)"
      ],
      "metadata": {
        "id": "IfCjGDwHGNgW"
      },
      "execution_count": 12,
      "outputs": []
    },
    {
      "cell_type": "code",
      "source": [
        "from sklearn.pipeline import Pipeline\n",
        "from sklearn.feature_extraction.text import CountVectorizer, TfidfTransformer\n",
        "pipeline=Pipeline([\n",
        "    ('vect',CountVectorizer()),\n",
        "    ('tfidf',TfidfTransformer()),\n",
        "    ('clf',MultinomialNB())\n",
        "])"
      ],
      "metadata": {
        "id": "zJXJfsn3Gakb"
      },
      "execution_count": 17,
      "outputs": []
    },
    {
      "cell_type": "code",
      "source": [
        "pipeline.fit(x_train,y_train)\n",
        "y_pred=pipeline.predict(x_test)\n",
        "print(accuracy_score(y_pred,y_test))"
      ],
      "metadata": {
        "colab": {
          "base_uri": "https://localhost:8080/"
        },
        "id": "AQHnCp_WHDfi",
        "outputId": "d1080b08-8158-4ad9-c9b8-ccaa616b82a1"
      },
      "execution_count": 21,
      "outputs": [
        {
          "output_type": "stream",
          "name": "stdout",
          "text": [
            "0.9488789237668162\n"
          ]
        }
      ]
    },
    {
      "cell_type": "code",
      "source": [
        "from sklearn.metrics import classification_report\n",
        "print(classification_report(y_pred,y_test))"
      ],
      "metadata": {
        "colab": {
          "base_uri": "https://localhost:8080/"
        },
        "id": "xHMNdcbnHMRn",
        "outputId": "529b2062-dbba-4dc4-cfa8-b8e5aea7428b"
      },
      "execution_count": 20,
      "outputs": [
        {
          "output_type": "stream",
          "name": "stdout",
          "text": [
            "              precision    recall  f1-score   support\n",
            "\n",
            "           0       1.00      0.94      0.97      1022\n",
            "           1       0.62      1.00      0.77        93\n",
            "\n",
            "    accuracy                           0.95      1115\n",
            "   macro avg       0.81      0.97      0.87      1115\n",
            "weighted avg       0.97      0.95      0.95      1115\n",
            "\n"
          ]
        }
      ]
    }
  ]
}