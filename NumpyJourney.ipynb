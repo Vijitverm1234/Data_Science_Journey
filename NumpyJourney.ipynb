{
  "nbformat": 4,
  "nbformat_minor": 0,
  "metadata": {
    "colab": {
      "provenance": []
    },
    "kernelspec": {
      "name": "python3",
      "display_name": "Python 3"
    },
    "language_info": {
      "name": "python"
    }
  },
  "cells": [
    {
      "cell_type": "code",
      "execution_count": null,
      "metadata": {
        "id": "XGD6Nikz69e_"
      },
      "outputs": [],
      "source": [
        "import numpy as np"
      ]
    },
    {
      "cell_type": "markdown",
      "source": [
        "ARRAY Creation"
      ],
      "metadata": {
        "id": "9eLTpM2d7TmP"
      }
    },
    {
      "cell_type": "code",
      "source": [
        "zero=np.zeros((2,3)) #fill the array with zeros\n",
        "one=np.ones((2,3)) #fill the array with ones\n",
        "arrange=np.arange(0,10,2) # arrange the values\n",
        "linspace=np.linspace(0,10,6) #spread the values in inclusive range of first two parimeter\n",
        "full=np.full((2,3),5) #fill the array with a particular value\n",
        "print(zero)\n",
        "print(\"\\n\")\n",
        "print(one)\n",
        "print(\"\\n\")\n",
        "print(arrange)\n",
        "print(\"\\n\")\n",
        "print(linspace)\n",
        "print(\"\\n\")\n",
        "print(full)"
      ],
      "metadata": {
        "colab": {
          "base_uri": "https://localhost:8080/"
        },
        "id": "P3Rabn0v7XVt",
        "outputId": "f36dc43e-4005-4a82-b4dd-30be2204696f"
      },
      "execution_count": 5,
      "outputs": [
        {
          "output_type": "stream",
          "name": "stdout",
          "text": [
            "[[0. 0. 0.]\n",
            " [0. 0. 0.]]\n",
            "\n",
            "\n",
            "[[1. 1. 1.]\n",
            " [1. 1. 1.]]\n",
            "\n",
            "\n",
            "[0 2 4 6 8]\n",
            "\n",
            "\n",
            "[ 0.  2.  4.  6.  8. 10.]\n",
            "\n",
            "\n",
            "[[5 5 5]\n",
            " [5 5 5]]\n"
          ]
        }
      ]
    },
    {
      "cell_type": "markdown",
      "source": [
        "RESHAPING THE ARRAYS"
      ],
      "metadata": {
        "id": "y7t0riu_83Za"
      }
    },
    {
      "cell_type": "code",
      "source": [
        "array=np.array([[1,2,3],[4,5,6]])\n",
        "print(array)"
      ],
      "metadata": {
        "colab": {
          "base_uri": "https://localhost:8080/"
        },
        "id": "5q9KUtF79tCW",
        "outputId": "fa12fe80-760e-4f21-c5b5-27f354657659"
      },
      "execution_count": null,
      "outputs": [
        {
          "output_type": "stream",
          "name": "stdout",
          "text": [
            "[[1 2 3]\n",
            " [4 5 6]]\n"
          ]
        }
      ]
    },
    {
      "cell_type": "code",
      "source": [
        "flattened=array.flatten()\n",
        "transpose=array.T\n",
        "reshaped=array.reshape((2,3))\n",
        "print(flattened)\n",
        "print(\"\\n\")\n",
        "print(transpose)\n",
        "print(\"\\n\")\n",
        "print(reshaped)"
      ],
      "metadata": {
        "colab": {
          "base_uri": "https://localhost:8080/"
        },
        "id": "Gf706zoy941Z",
        "outputId": "b843e373-78a6-4060-a9d2-6e28831cf55e"
      },
      "execution_count": null,
      "outputs": [
        {
          "output_type": "stream",
          "name": "stdout",
          "text": [
            "[1 2 3 4 5 6]\n",
            "\n",
            "\n",
            "[[1 4]\n",
            " [2 5]\n",
            " [3 6]]\n",
            "\n",
            "\n",
            "[[1 2 3]\n",
            " [4 5 6]]\n"
          ]
        }
      ]
    },
    {
      "cell_type": "markdown",
      "source": [
        "JOINING THE ARRAYS"
      ],
      "metadata": {
        "id": "eIfopc4m-j0I"
      }
    },
    {
      "cell_type": "code",
      "source": [
        "arr1=np.array([[1,2],[3,4]])\n",
        "arr2=np.array([[7,8],[9,10]]) #for axis=1 ie horizontal concatenation size must be same\n",
        "concat=np.concatenate((arr1,arr2),axis=0)\n",
        "print(concat)\n",
        "vstack=np.vstack((arr1,arr2)) #same as axis=0\n",
        "hstack=np.hstack((arr1,arr2)) #same as axis=1\n",
        "print(\"\\n\")\n",
        "print(vstack)\n",
        "print(\"\\n\")\n",
        "print(hstack)\n"
      ],
      "metadata": {
        "colab": {
          "base_uri": "https://localhost:8080/"
        },
        "id": "uxV6OqvE_iOr",
        "outputId": "fc8e467c-8b55-4076-8ffa-4a7c1b7e7668"
      },
      "execution_count": null,
      "outputs": [
        {
          "output_type": "stream",
          "name": "stdout",
          "text": [
            "[[ 1  2]\n",
            " [ 3  4]\n",
            " [ 7  8]\n",
            " [ 9 10]]\n",
            "\n",
            "\n",
            "[[ 1  2]\n",
            " [ 3  4]\n",
            " [ 7  8]\n",
            " [ 9 10]]\n",
            "\n",
            "\n",
            "[[ 1  2  7  8]\n",
            " [ 3  4  9 10]]\n"
          ]
        }
      ]
    },
    {
      "cell_type": "markdown",
      "source": [
        "SPLITTING THE ARRAYS"
      ],
      "metadata": {
        "id": "yJrvl2s2CDVK"
      }
    },
    {
      "cell_type": "code",
      "source": [
        "arr = np.array([[1, 2, 3], [4, 5, 6], [7, 8, 9]])\n",
        "\n",
        "# Split into 3 equal parts along axis 0\n",
        "split = np.split(arr, 3, axis=0)  # [array([[1, 2, 3]]), array([[4, 5, 6]]), array([[7, 8, 9]])]\n",
        "\n",
        "# Horizontal split into 3 columns\n",
        "hsplit = np.hsplit(arr, 3)  # [array([[1], [4], [7]]), array([[2], [5], [8]]), array([[3], [6], [9]])]\n",
        "\n",
        "print(split)"
      ],
      "metadata": {
        "colab": {
          "base_uri": "https://localhost:8080/"
        },
        "id": "_lfZhLQDCKsn",
        "outputId": "2ee9f91a-6602-4339-f12f-84793621263d"
      },
      "execution_count": null,
      "outputs": [
        {
          "output_type": "stream",
          "name": "stdout",
          "text": [
            "[array([[1, 2, 3]]), array([[4, 5, 6]]), array([[7, 8, 9]])]\n"
          ]
        }
      ]
    },
    {
      "cell_type": "code",
      "source": [
        "import time\n",
        "import numpy as np\n",
        "start=time.time()\n",
        "arr=[1,2,3]\n",
        "temp=[i*2 for i in range(100000)]\n",
        "print(\"\\nList operation time\",time.time()-start)\n",
        "start=time.time()\n",
        "arr=np.array([1,2,3])\n",
        "temp=arr*2\n",
        "print(\"\\nArray operation time\",time.time()-start)\n"
      ],
      "metadata": {
        "colab": {
          "base_uri": "https://localhost:8080/"
        },
        "id": "7hJhc3IPalGW",
        "outputId": "c61e06e9-22c5-4ac4-e996-a045ea8166b3"
      },
      "execution_count": 3,
      "outputs": [
        {
          "output_type": "stream",
          "name": "stdout",
          "text": [
            "\n",
            "List operation time 0.005682945251464844\n",
            "\n",
            "Array operation time 0.001070261001586914\n"
          ]
        }
      ]
    },
    {
      "cell_type": "markdown",
      "source": [
        "## Random\n"
      ],
      "metadata": {
        "id": "d4SirPoZcWnq"
      }
    },
    {
      "cell_type": "code",
      "source": [
        "#inside the random class there are so many method\n",
        "random=np.random.random([2,3])\n",
        "print(random)\n",
        "#using arange we have non inclusive values"
      ],
      "metadata": {
        "colab": {
          "base_uri": "https://localhost:8080/"
        },
        "id": "MCQSKaIacWGw",
        "outputId": "a6a28736-25ba-45e3-99b0-8d1c3a36cfd2"
      },
      "execution_count": 7,
      "outputs": [
        {
          "output_type": "stream",
          "name": "stdout",
          "text": [
            "[[0.33140018 0.901165   0.77708858]\n",
            " [0.87271719 0.36888684 0.77759128]]\n"
          ]
        }
      ]
    },
    {
      "cell_type": "markdown",
      "source": [
        "## Vector , Matrix and Tensor"
      ],
      "metadata": {
        "id": "v7oJhXPQdDHN"
      }
    },
    {
      "cell_type": "code",
      "source": [
        "vector=np.array([1,2,3])\n",
        "matrix=np.array([[1,2,3],[4,5,6]])\n",
        "tensor=np.array([[[1,2,3],[4,5,6]],[[7,8,9],[10,11,12]]])\n",
        "print(vector)\n",
        "print(\"\\n\")\n",
        "print(matrix)\n",
        "print(\"\\n\")\n",
        "print(tensor) #quite have to manupulate"
      ],
      "metadata": {
        "colab": {
          "base_uri": "https://localhost:8080/"
        },
        "id": "hzuKtBS8dCxj",
        "outputId": "b4a87071-96b2-4134-fc59-bd358cfed97e"
      },
      "execution_count": 8,
      "outputs": [
        {
          "output_type": "stream",
          "name": "stdout",
          "text": [
            "[1 2 3]\n",
            "\n",
            "\n",
            "[[1 2 3]\n",
            " [4 5 6]]\n",
            "\n",
            "\n",
            "[[[ 1  2  3]\n",
            "  [ 4  5  6]]\n",
            "\n",
            " [[ 7  8  9]\n",
            "  [10 11 12]]]\n"
          ]
        }
      ]
    },
    {
      "cell_type": "markdown",
      "source": [
        "## Properties of Array"
      ],
      "metadata": {
        "id": "QVMhK_BhfocC"
      }
    },
    {
      "cell_type": "code",
      "source": [
        "arr=np.array([[1,2,3],[4,5,9]]) #Similar Datatype\n",
        "print(arr.shape)\n",
        "print(arr.ndim)\n",
        "print(arr.size)\n",
        "print(arr.dtype)"
      ],
      "metadata": {
        "colab": {
          "base_uri": "https://localhost:8080/"
        },
        "id": "pysV1m1TfriB",
        "outputId": "7c1ae17e-f762-4261-a386-b07c57b08cf4"
      },
      "execution_count": 16,
      "outputs": [
        {
          "output_type": "stream",
          "name": "stdout",
          "text": [
            "(2, 3)\n",
            "2\n",
            "6\n",
            "int64\n"
          ]
        }
      ]
    },
    {
      "cell_type": "markdown",
      "source": [
        "## Array Reshaping\n"
      ],
      "metadata": {
        "id": "gqrydBCRgPOA"
      }
    },
    {
      "cell_type": "code",
      "source": [
        "arr=np.arange(0,12)\n",
        "print(arr)\n",
        "reshaped=arr.reshape((6,2))\n",
        "print(reshaped)\n",
        "flatten=reshaped.flatten()\n",
        "print(flatten)\n",
        "raveled=reshaped.ravel()\n",
        "print(raveled) #return view instead of copy\n",
        "transpose=reshaped.T;\n",
        "print(transpose)"
      ],
      "metadata": {
        "colab": {
          "base_uri": "https://localhost:8080/"
        },
        "id": "z4z29r1ggSJg",
        "outputId": "69c7965f-677a-4325-da7f-3af1c48fcf37"
      },
      "execution_count": 25,
      "outputs": [
        {
          "output_type": "stream",
          "name": "stdout",
          "text": [
            "[ 0  1  2  3  4  5  6  7  8  9 10 11]\n",
            "[[ 0  1]\n",
            " [ 2  3]\n",
            " [ 4  5]\n",
            " [ 6  7]\n",
            " [ 8  9]\n",
            " [10 11]]\n",
            "[ 0  1  2  3  4  5  6  7  8  9 10 11]\n",
            "[ 0  1  2  3  4  5  6  7  8  9 10 11]\n",
            "[[ 0  2  4  6  8 10]\n",
            " [ 1  3  5  7  9 11]]\n"
          ]
        }
      ]
    },
    {
      "cell_type": "markdown",
      "source": [
        "#indexing and slicing using Numpy"
      ],
      "metadata": {
        "id": "_0yQyKEDhnVi"
      }
    },
    {
      "cell_type": "code",
      "source": [
        "import numpy as np\n"
      ],
      "metadata": {
        "id": "RDFXkA9FhqXC"
      },
      "execution_count": 26,
      "outputs": []
    },
    {
      "cell_type": "code",
      "source": [
        "arr=np.arange(0,12)\n",
        "print(arr)\n",
        "\n",
        "arr1=arr.reshape((3,4))\n",
        "print(arr1)\n",
        "\n",
        "print(arr1[1,2])\n",
        "print(arr1[0:2,1:3])\n",
        "print(arr1[:,2])"
      ],
      "metadata": {
        "colab": {
          "base_uri": "https://localhost:8080/"
        },
        "id": "WhpAFnwrhvBH",
        "outputId": "8c61c57e-0c2d-424d-e52f-3fd314c5ca91"
      },
      "execution_count": 33,
      "outputs": [
        {
          "output_type": "stream",
          "name": "stdout",
          "text": [
            "[ 0  1  2  3  4  5  6  7  8  9 10 11]\n",
            "[[ 0  1  2  3]\n",
            " [ 4  5  6  7]\n",
            " [ 8  9 10 11]]\n",
            "6\n",
            "[[1 2]\n",
            " [5 6]]\n",
            "[ 2  6 10]\n"
          ]
        }
      ]
    },
    {
      "cell_type": "markdown",
      "source": [
        "## Sorting"
      ],
      "metadata": {
        "id": "6jmbKaCXlOIj"
      }
    },
    {
      "cell_type": "code",
      "source": [
        "unsorted_arr=np.array([3,1,5,2,1,6,7,3,2])\n",
        "print(np.sort(unsorted_arr))\n",
        "\n",
        "arr_2d_unsorted=np.array([[3,2],[3,5],[9,8]])\n",
        "print(np.sort(arr_2d_unsorted,axis=0)) # when 0 (top to bottom)  1 (left to right)"
      ],
      "metadata": {
        "colab": {
          "base_uri": "https://localhost:8080/"
        },
        "id": "gB97ugx4h9Fu",
        "outputId": "0a67573b-d9b6-4102-b06b-a2f02ca7681e"
      },
      "execution_count": 38,
      "outputs": [
        {
          "output_type": "stream",
          "name": "stdout",
          "text": [
            "[1 1 2 2 3 3 5 6 7]\n",
            "[[3 2]\n",
            " [3 5]\n",
            " [9 8]]\n"
          ]
        }
      ]
    },
    {
      "cell_type": "markdown",
      "source": [
        "## Filtering"
      ],
      "metadata": {
        "id": "7H9AF0cnn3mr"
      }
    },
    {
      "cell_type": "code",
      "source": [
        "numbers=np.arange(1,10)\n",
        "print(numbers)\n",
        "even=numbers[numbers%2==0]\n",
        "print(even)\n",
        "## with mask\n",
        "\n",
        "mask=numbers>5\n",
        "print(\"Number greater than five \",numbers[mask])"
      ],
      "metadata": {
        "colab": {
          "base_uri": "https://localhost:8080/"
        },
        "id": "QBTSsT9vn49I",
        "outputId": "3e0fdc8d-610c-41e9-b39f-f7428f851ff2"
      },
      "execution_count": 41,
      "outputs": [
        {
          "output_type": "stream",
          "name": "stdout",
          "text": [
            "[1 2 3 4 5 6 7 8 9]\n",
            "[2 4 6 8]\n",
            "Number greater than five  [6 7 8 9]\n"
          ]
        }
      ]
    },
    {
      "cell_type": "markdown",
      "source": [
        "Fancy Indexing Vs np.where"
      ],
      "metadata": {
        "id": "nN5HkRuLohJs"
      }
    },
    {
      "cell_type": "code",
      "source": [
        "number=np.arange(1,10)\n",
        "indices=[0,2,4]\n",
        "print(number[indices])\n",
        "print(number[np.where(number>5)])\n",
        "\n",
        "conArray=np.where(number>5,number%2,number) ## where(if condition , if block , else block )\n",
        "print(conArray)"
      ],
      "metadata": {
        "colab": {
          "base_uri": "https://localhost:8080/"
        },
        "id": "TPmaZDrOokL4",
        "outputId": "5c4a9e7f-7bb3-4a03-ba90-5b6521a71291"
      },
      "execution_count": 53,
      "outputs": [
        {
          "output_type": "stream",
          "name": "stdout",
          "text": [
            "[1 3 5]\n",
            "[6 7 8 9]\n",
            "[1 0 1 0 5 0 1 0 1]\n"
          ]
        }
      ]
    },
    {
      "cell_type": "markdown",
      "source": [
        "## Adding and Removing Data"
      ],
      "metadata": {
        "id": "8HBzguTOqgwd"
      }
    },
    {
      "cell_type": "code",
      "source": [
        "arr1=np.array([1,2,3,4])\n",
        "arr2=np.array([4,5,6,7])\n",
        "combine=arr1+arr2\n",
        "print(combine)\n",
        "conCat=np.concatenate((arr1,arr2))\n",
        "print(conCat)\n",
        "\n",
        "print(\"Compatability Shape \",arr1.shape==arr2.shape)\n",
        "\n",
        "# Adding new rows\n",
        "\n",
        "new_row=np.array([10,11,12,13])\n",
        "with_new_row=np.vstack((arr1,new_row))\n",
        "print(with_new_row)\n",
        "new_col=np.array([[10],[11]])\n",
        "with_new_col=np.hstack((with_new_row,new_col))\n",
        "print(with_new_col)"
      ],
      "metadata": {
        "colab": {
          "base_uri": "https://localhost:8080/"
        },
        "id": "I7glUKvVqgOK",
        "outputId": "dfde5025-de09-424e-e58b-1132249a0422"
      },
      "execution_count": 64,
      "outputs": [
        {
          "output_type": "stream",
          "name": "stdout",
          "text": [
            "[ 5  7  9 11]\n",
            "[1 2 3 4 4 5 6 7]\n",
            "Compatability Shape  True\n",
            "[[ 1  2  3  4]\n",
            " [10 11 12 13]]\n",
            "[[ 1  2  3  4 10]\n",
            " [10 11 12 13 11]]\n"
          ]
        }
      ]
    }
  ]
}